{
  "nbformat": 4,
  "nbformat_minor": 0,
  "metadata": {
    "colab": {
      "provenance": [],
      "toc_visible": true
    },
    "kernelspec": {
      "name": "python3",
      "display_name": "Python 3"
    },
    "language_info": {
      "name": "python"
    }
  },
  "cells": [
    {
      "cell_type": "markdown",
      "source": [
        "# **Random_Forest**"
      ],
      "metadata": {
        "id": "gAKPE2QLYjfw"
      }
    },
    {
      "cell_type": "code",
      "execution_count": null,
      "metadata": {
        "id": "Lc-LnH2FU86g"
      },
      "outputs": [],
      "source": [
        "from sklearn.model_selection import train_test_split\n",
        "X_train, X_test, y_train, y_test = train_test_split(X, y, test_size=0.2, shuffle = True)\n",
        "X_train.shape, y_train.shape, X_test.shape, y_test.shape\n",
        "X_train, y_train"
      ]
    },
    {
      "cell_type": "code",
      "source": [
        "from sklearn.ensemble import RandomForestClassifier"
      ],
      "metadata": {
        "id": "O0LFhPXfWXZ4"
      },
      "execution_count": null,
      "outputs": []
    },
    {
      "cell_type": "code",
      "source": [
        "RF = RandomForestClassifier(n_estimators=100, max_depth=5, random_state=0, criterion='entropy')\n",
        "RF.fit(X_train, y_train)"
      ],
      "metadata": {
        "id": "JFrEqtTyWlc9"
      },
      "execution_count": null,
      "outputs": []
    },
    {
      "cell_type": "code",
      "source": [
        "y_pred = RF.predict(X_test)"
      ],
      "metadata": {
        "id": "zHNoqKJ7XIhr"
      },
      "execution_count": null,
      "outputs": []
    },
    {
      "cell_type": "code",
      "source": [
        "y_pred[:10] #the last 10 values"
      ],
      "metadata": {
        "id": "kUGu5GI7Xsdm"
      },
      "execution_count": null,
      "outputs": []
    },
    {
      "cell_type": "code",
      "source": [
        "y_test[:10] #the last 10 values"
      ],
      "metadata": {
        "id": "FeSOVPcJXsZm"
      },
      "execution_count": null,
      "outputs": []
    },
    {
      "cell_type": "code",
      "source": [
        "#to calculate error\n",
        "RF.score(X_test, y_test)\n",
        "#ORRR\n",
        "RF.score(X_train, y_train)"
      ],
      "metadata": {
        "id": "zuceYCooXsX_"
      },
      "execution_count": null,
      "outputs": []
    },
    {
      "cell_type": "code",
      "source": [
        "from sklearn.metrics import confusion_matrix, classification_report, accuracy_score, f1_score, precision_score, recall_score"
      ],
      "metadata": {
        "id": "cjHrijMyXsPa"
      },
      "execution_count": null,
      "outputs": []
    },
    {
      "cell_type": "code",
      "source": [
        "confusion_matrix(y_test, y_pred)\n",
        "classification_report(y_test, y_pred)\n",
        "accuracy_score(y_test, y_pred)\n",
        "f1_score(y_test, y_pred)\n",
        "precision_score(y_test, y_pred)\n",
        "recall_score(y_test, y_pred)"
      ],
      "metadata": {
        "id": "ylbYwVp-SihV"
      },
      "execution_count": null,
      "outputs": []
    },
    {
      "cell_type": "code",
      "source": [
        "data = {\n",
        "    'y_test': y_test,\n",
        "    'y_pred': y_pred,\n",
        "    'diff' : y_test - y_pred\n",
        "}\n",
        "df = pd.DataFrame(data)\n",
        "df.head()"
      ],
      "metadata": {
        "id": "-Xpa6jRiXsHB"
      },
      "execution_count": null,
      "outputs": []
    },
    {
      "cell_type": "code",
      "source": [
        "df.sort_values(by = 'diff', ascending = False)"
      ],
      "metadata": {
        "id": "YA3p4RLIcsJm"
      },
      "execution_count": null,
      "outputs": []
    },
    {
      "cell_type": "code",
      "source": [
        "#------------------------ Visualization ------------------------------#\n",
        "# writee anyy figure U want:)\n"
      ],
      "metadata": {
        "id": "zrc0B-0QcsFr"
      },
      "execution_count": null,
      "outputs": []
    },
    {
      "cell_type": "code",
      "source": [],
      "metadata": {
        "id": "pUD58xkvcsEL"
      },
      "execution_count": null,
      "outputs": []
    },
    {
      "cell_type": "code",
      "source": [],
      "metadata": {
        "id": "IZjNrQ_2dsnm"
      },
      "execution_count": null,
      "outputs": []
    }
  ]
}