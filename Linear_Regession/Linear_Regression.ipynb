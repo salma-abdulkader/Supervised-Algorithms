{
  "nbformat": 4,
  "nbformat_minor": 0,
  "metadata": {
    "colab": {
      "provenance": [],
      "toc_visible": true
    },
    "kernelspec": {
      "name": "python3",
      "display_name": "Python 3"
    },
    "language_info": {
      "name": "python"
    }
  },
  "cells": [
    {
      "cell_type": "markdown",
      "source": [
        "# **Linear_Regression**"
      ],
      "metadata": {
        "id": "gAKPE2QLYjfw"
      }
    },
    {
      "cell_type": "code",
      "execution_count": null,
      "metadata": {
        "id": "Lc-LnH2FU86g"
      },
      "outputs": [],
      "source": [
        "from sklearn.model_selection import train_test_split\n",
        "X_train, X_test, y_train, y_test = train_test_split(X, y, test_size=0.2, shuffle = True)\n",
        "X_train.shape, y_train.shape, X_test.shape, y_test.shape\n",
        "X_train, y_train"
      ]
    },
    {
      "cell_type": "code",
      "source": [
        "from sklearn.linear_model import LinearRegression, Lasso, Ridge"
      ],
      "metadata": {
        "id": "O0LFhPXfWXZ4"
      },
      "execution_count": null,
      "outputs": []
    },
    {
      "cell_type": "code",
      "source": [
        "LR = LinearRegression()\n",
        "## ORRR\n",
        "LR.Lasso()\n",
        "## ORRR\n",
        "LR.Ridge()\n",
        "LR.fit(X_train, y_train)"
      ],
      "metadata": {
        "id": "JFrEqtTyWlc9"
      },
      "execution_count": null,
      "outputs": []
    },
    {
      "cell_type": "code",
      "source": [
        "LR.coef_, LR.intercept_ #values of theta and constant (theta(0) + theta(1)*x)"
      ],
      "metadata": {
        "id": "jreFRryjXInT"
      },
      "execution_count": null,
      "outputs": []
    },
    {
      "cell_type": "code",
      "source": [
        "LR.coef_.shape, LR.intercept_.shape"
      ],
      "metadata": {
        "id": "JW8qyIqaXIjf"
      },
      "execution_count": null,
      "outputs": []
    },
    {
      "cell_type": "code",
      "source": [
        "y_pred = LR.predict(X_test)"
      ],
      "metadata": {
        "id": "zHNoqKJ7XIhr"
      },
      "execution_count": null,
      "outputs": []
    },
    {
      "cell_type": "code",
      "source": [
        "y_pred[:10] #the last 10 values"
      ],
      "metadata": {
        "id": "kUGu5GI7Xsdm"
      },
      "execution_count": null,
      "outputs": []
    },
    {
      "cell_type": "code",
      "source": [
        "y_test[:10] #the last 10 values"
      ],
      "metadata": {
        "id": "FeSOVPcJXsZm"
      },
      "execution_count": null,
      "outputs": []
    },
    {
      "cell_type": "code",
      "source": [
        "#to calculate error\n",
        "LR.score(X_test, y_test)\n",
        "#ORRR\n",
        "LR.score(X_train, y_train)"
      ],
      "metadata": {
        "id": "zuceYCooXsX_"
      },
      "execution_count": null,
      "outputs": []
    },
    {
      "cell_type": "code",
      "source": [
        "from sklearn.metrics import mean_squared_error, r2_score, mean_absolute_error, rooted_mean_squared_error, max_error, median_absolute_error"
      ],
      "metadata": {
        "id": "cjHrijMyXsPa"
      },
      "execution_count": null,
      "outputs": []
    },
    {
      "cell_type": "code",
      "source": [
        "mean_squared_error(y_test, y_pred)\n",
        "mean_absolute_error(y_test, y_pred)\n",
        "root_mean_squared_error(y_test, y_pred)\n",
        "max_error(y_test, y_pred)\n",
        "median_absolute_error(y_test, y_pred)\n",
        "r2_score(y_test, y_pred)\n",
        "max_error(y_test, y_pred)"
      ],
      "metadata": {
        "id": "sL_xPkMuXsK3"
      },
      "execution_count": null,
      "outputs": []
    },
    {
      "cell_type": "code",
      "source": [
        "data = {\n",
        "    'y_test': y_test,\n",
        "    'y_pred': y_pred,\n",
        "    'diff' : y_test - y_pred\n",
        "}\n",
        "df = pd.DataFrame(data)\n",
        "df.head()"
      ],
      "metadata": {
        "id": "-Xpa6jRiXsHB"
      },
      "execution_count": null,
      "outputs": []
    },
    {
      "cell_type": "code",
      "source": [
        "df.sort_values(by = 'diff', ascending = False)"
      ],
      "metadata": {
        "id": "YA3p4RLIcsJm"
      },
      "execution_count": null,
      "outputs": []
    },
    {
      "cell_type": "code",
      "source": [
        "#------------------------ Visualization ------------------------------#\n",
        "# writee anyy figure U want:)\n"
      ],
      "metadata": {
        "id": "zrc0B-0QcsFr"
      },
      "execution_count": null,
      "outputs": []
    },
    {
      "cell_type": "code",
      "source": [],
      "metadata": {
        "id": "pUD58xkvcsEL"
      },
      "execution_count": null,
      "outputs": []
    },
    {
      "cell_type": "code",
      "source": [],
      "metadata": {
        "id": "IZjNrQ_2dsnm"
      },
      "execution_count": null,
      "outputs": []
    }
  ]
}